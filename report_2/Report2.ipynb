{
  "nbformat": 4,
  "nbformat_minor": 0,
  "metadata": {
    "colab": {
      "name": "Report2.ipynb",
      "provenance": [],
      "collapsed_sections": [],
      "toc_visible": true
    },
    "kernelspec": {
      "name": "python3",
      "display_name": "Python 3"
    }
  },
  "cells": [
    {
      "cell_type": "markdown",
      "metadata": {
        "id": "xBHzh649O0Bm"
      },
      "source": [
        "# **Report 2**"
      ]
    },
    {
      "cell_type": "markdown",
      "metadata": {
        "id": "Z3R76JNNO7nK"
      },
      "source": [
        "**Authors: Richard Liang, Olivia majedi, Priyanka Kishore, Rhea Rakheja, Jiadong Li, Michael Strobel**"
      ]
    },
    {
      "cell_type": "code",
      "metadata": {
        "id": "AByrw_kGPPMx"
      },
      "source": [
        "import pandas as pd"
      ],
      "execution_count": 1,
      "outputs": []
    },
    {
      "cell_type": "code",
      "metadata": {
        "id": "4yweRkHuP8hU"
      },
      "source": [
        "df = pd.read_csv('https://raw.githubusercontent.com/jdli28/STAT440/master/summer_mount_ginini.csv')"
      ],
      "execution_count": 2,
      "outputs": []
    },
    {
      "cell_type": "code",
      "metadata": {
        "id": "MD8b76X0Zc-w"
      },
      "source": [
        "df = df.dropna()"
      ],
      "execution_count": 3,
      "outputs": []
    },
    {
      "cell_type": "code",
      "metadata": {
        "colab": {
          "base_uri": "https://localhost:8080/",
          "height": 402
        },
        "id": "8jAzii4oZ2H5",
        "outputId": "01106e4e-bf8d-43f8-a76c-30f802134038"
      },
      "source": [
        "df"
      ],
      "execution_count": 4,
      "outputs": [
        {
          "output_type": "execute_result",
          "data": {
            "text/html": [
              "<div>\n",
              "<style scoped>\n",
              "    .dataframe tbody tr th:only-of-type {\n",
              "        vertical-align: middle;\n",
              "    }\n",
              "\n",
              "    .dataframe tbody tr th {\n",
              "        vertical-align: top;\n",
              "    }\n",
              "\n",
              "    .dataframe thead th {\n",
              "        text-align: right;\n",
              "    }\n",
              "</style>\n",
              "<table border=\"1\" class=\"dataframe\">\n",
              "  <thead>\n",
              "    <tr style=\"text-align: right;\">\n",
              "      <th></th>\n",
              "      <th>Date</th>\n",
              "      <th>Location</th>\n",
              "      <th>MinTemp</th>\n",
              "      <th>MaxTemp</th>\n",
              "    </tr>\n",
              "  </thead>\n",
              "  <tbody>\n",
              "    <tr>\n",
              "      <th>0</th>\n",
              "      <td>12/1/2008</td>\n",
              "      <td>MountGinini</td>\n",
              "      <td>5.2</td>\n",
              "      <td>13.0</td>\n",
              "    </tr>\n",
              "    <tr>\n",
              "      <th>1</th>\n",
              "      <td>12/2/2008</td>\n",
              "      <td>MountGinini</td>\n",
              "      <td>3.0</td>\n",
              "      <td>15.0</td>\n",
              "    </tr>\n",
              "    <tr>\n",
              "      <th>2</th>\n",
              "      <td>12/3/2008</td>\n",
              "      <td>MountGinini</td>\n",
              "      <td>6.0</td>\n",
              "      <td>15.0</td>\n",
              "    </tr>\n",
              "    <tr>\n",
              "      <th>3</th>\n",
              "      <td>12/4/2008</td>\n",
              "      <td>MountGinini</td>\n",
              "      <td>2.0</td>\n",
              "      <td>15.0</td>\n",
              "    </tr>\n",
              "    <tr>\n",
              "      <th>4</th>\n",
              "      <td>12/5/2008</td>\n",
              "      <td>MountGinini</td>\n",
              "      <td>8.0</td>\n",
              "      <td>17.8</td>\n",
              "    </tr>\n",
              "    <tr>\n",
              "      <th>...</th>\n",
              "      <td>...</td>\n",
              "      <td>...</td>\n",
              "      <td>...</td>\n",
              "      <td>...</td>\n",
              "    </tr>\n",
              "    <tr>\n",
              "      <th>743</th>\n",
              "      <td>2/24/2017</td>\n",
              "      <td>MountGinini</td>\n",
              "      <td>13.8</td>\n",
              "      <td>24.1</td>\n",
              "    </tr>\n",
              "    <tr>\n",
              "      <th>744</th>\n",
              "      <td>2/25/2017</td>\n",
              "      <td>MountGinini</td>\n",
              "      <td>9.5</td>\n",
              "      <td>11.2</td>\n",
              "    </tr>\n",
              "    <tr>\n",
              "      <th>745</th>\n",
              "      <td>2/26/2017</td>\n",
              "      <td>MountGinini</td>\n",
              "      <td>4.7</td>\n",
              "      <td>16.7</td>\n",
              "    </tr>\n",
              "    <tr>\n",
              "      <th>746</th>\n",
              "      <td>2/27/2017</td>\n",
              "      <td>MountGinini</td>\n",
              "      <td>5.6</td>\n",
              "      <td>16.2</td>\n",
              "    </tr>\n",
              "    <tr>\n",
              "      <th>747</th>\n",
              "      <td>2/28/2017</td>\n",
              "      <td>MountGinini</td>\n",
              "      <td>7.5</td>\n",
              "      <td>18.0</td>\n",
              "    </tr>\n",
              "  </tbody>\n",
              "</table>\n",
              "<p>745 rows × 4 columns</p>\n",
              "</div>"
            ],
            "text/plain": [
              "          Date     Location  MinTemp  MaxTemp\n",
              "0    12/1/2008  MountGinini      5.2     13.0\n",
              "1    12/2/2008  MountGinini      3.0     15.0\n",
              "2    12/3/2008  MountGinini      6.0     15.0\n",
              "3    12/4/2008  MountGinini      2.0     15.0\n",
              "4    12/5/2008  MountGinini      8.0     17.8\n",
              "..         ...          ...      ...      ...\n",
              "743  2/24/2017  MountGinini     13.8     24.1\n",
              "744  2/25/2017  MountGinini      9.5     11.2\n",
              "745  2/26/2017  MountGinini      4.7     16.7\n",
              "746  2/27/2017  MountGinini      5.6     16.2\n",
              "747  2/28/2017  MountGinini      7.5     18.0\n",
              "\n",
              "[745 rows x 4 columns]"
            ]
          },
          "metadata": {
            "tags": []
          },
          "execution_count": 4
        }
      ]
    },
    {
      "cell_type": "code",
      "metadata": {
        "id": "5pqyxFd5RaMy"
      },
      "source": [
        "import numpy as np"
      ],
      "execution_count": 5,
      "outputs": []
    },
    {
      "cell_type": "markdown",
      "metadata": {
        "id": "LQmWY1jETiqb"
      },
      "source": [
        "## **Population size N and true parameter mu(MaxTemp)**"
      ]
    },
    {
      "cell_type": "code",
      "metadata": {
        "colab": {
          "base_uri": "https://localhost:8080/"
        },
        "id": "5tAcie5GSCQi",
        "outputId": "3f7dc9c0-9043-40d9-8ad7-606a2ed1659d"
      },
      "source": [
        "N = len(df)\r\n",
        "N"
      ],
      "execution_count": 6,
      "outputs": [
        {
          "output_type": "execute_result",
          "data": {
            "text/plain": [
              "745"
            ]
          },
          "metadata": {
            "tags": []
          },
          "execution_count": 6
        }
      ]
    },
    {
      "cell_type": "code",
      "metadata": {
        "colab": {
          "base_uri": "https://localhost:8080/"
        },
        "id": "dL6-eEZ1SiFN",
        "outputId": "0d357cdf-f7c8-4065-d865-6326fe0396ae"
      },
      "source": [
        "max_temp_mean = np.mean(df.MaxTemp)\r\n",
        "max_temp_mean"
      ],
      "execution_count": 7,
      "outputs": [
        {
          "output_type": "execute_result",
          "data": {
            "text/plain": [
              "19.112885906040272"
            ]
          },
          "metadata": {
            "tags": []
          },
          "execution_count": 7
        }
      ]
    },
    {
      "cell_type": "markdown",
      "metadata": {
        "id": "NI-U5JyMToAT"
      },
      "source": [
        "## **Calculate sample size n for 90% and 95% confidence levels and couple different d’s. Use true σ^2 for these calculations**"
      ]
    },
    {
      "cell_type": "code",
      "metadata": {
        "colab": {
          "base_uri": "https://localhost:8080/"
        },
        "id": "Oh4L-_UrRwEs",
        "outputId": "95d607a4-7e4e-466c-da58-32acea2bc46c"
      },
      "source": [
        "sigma_sq = np.var(df.MaxTemp)\r\n",
        "sigma_sq"
      ],
      "execution_count": 8,
      "outputs": [
        {
          "output_type": "execute_result",
          "data": {
            "text/plain": [
              "21.75814267825774"
            ]
          },
          "metadata": {
            "tags": []
          },
          "execution_count": 8
        }
      ]
    },
    {
      "cell_type": "code",
      "metadata": {
        "colab": {
          "base_uri": "https://localhost:8080/"
        },
        "id": "sWOwCeuzUGXs",
        "outputId": "b9906a04-1f0c-41b6-8360-aafe6a5dbc6c"
      },
      "source": [
        "r = [.05, .01, .1]\r\n",
        "d = [(max_temp_mean * rval) for rval in r]\r\n",
        "d"
      ],
      "execution_count": 9,
      "outputs": [
        {
          "output_type": "execute_result",
          "data": {
            "text/plain": [
              "[0.9556442953020137, 0.19112885906040272, 1.9112885906040273]"
            ]
          },
          "metadata": {
            "tags": []
          },
          "execution_count": 9
        }
      ]
    },
    {
      "cell_type": "code",
      "metadata": {
        "id": "f87NLlpYUUH8"
      },
      "source": [
        " from scipy import stats\r\n",
        "z_alpha_90 = stats.norm.ppf(1-0.05)\r\n",
        "z_alpha_95 = stats.norm.ppf(1-0.025)"
      ],
      "execution_count": 10,
      "outputs": []
    },
    {
      "cell_type": "code",
      "metadata": {
        "id": "BzzF4OQwWE3r"
      },
      "source": [
        "n_90 = []\r\n",
        "n_95 = []"
      ],
      "execution_count": 11,
      "outputs": []
    },
    {
      "cell_type": "code",
      "metadata": {
        "id": "YzsGP_LUVMSV"
      },
      "source": [
        "for d_val in d:\r\n",
        "  n0 = z_alpha_90**2*sigma_sq/(d_val**2)\r\n",
        "  n_90.append(\r\n",
        "    1/((1/n0)+(1/N))\r\n",
        "  )\r\n",
        "\r\n",
        "  n0 = z_alpha_95**2*sigma_sq/(d_val**2)\r\n",
        "  n_95.append(\r\n",
        "    1/((1/n0)+(1/N))\r\n",
        "  )"
      ],
      "execution_count": 12,
      "outputs": []
    },
    {
      "cell_type": "code",
      "metadata": {
        "id": "3t-Yhdq5XwMn"
      },
      "source": [
        "import math"
      ],
      "execution_count": 13,
      "outputs": []
    },
    {
      "cell_type": "code",
      "metadata": {
        "colab": {
          "base_uri": "https://localhost:8080/"
        },
        "id": "0jMjO4T4WpLf",
        "outputId": "84678baf-b9b3-432d-ad13-220ab9d81370"
      },
      "source": [
        "n_90\r\n",
        "n_90 = [math.ceil(n) for n in n_90]\r\n",
        "n_90"
      ],
      "execution_count": 14,
      "outputs": [
        {
          "output_type": "execute_result",
          "data": {
            "text/plain": [
              "[60, 510, 16]"
            ]
          },
          "metadata": {
            "tags": []
          },
          "execution_count": 14
        }
      ]
    },
    {
      "cell_type": "code",
      "metadata": {
        "colab": {
          "base_uri": "https://localhost:8080/"
        },
        "id": "B08GbM8jWvDz",
        "outputId": "ba2812e4-716d-4836-ea45-a04dddf95215"
      },
      "source": [
        "n_95\r\n",
        "n_95 = [math.ceil(n) for n in n_95]\r\n",
        "n_95"
      ],
      "execution_count": 15,
      "outputs": [
        {
          "output_type": "execute_result",
          "data": {
            "text/plain": [
              "[82, 563, 23]"
            ]
          },
          "metadata": {
            "tags": []
          },
          "execution_count": 15
        }
      ]
    },
    {
      "cell_type": "markdown",
      "metadata": {
        "id": "6V89Bn8hWwD7"
      },
      "source": [
        "## **Estimate your parameter of interest using SRS with n’s which you calculated above.**"
      ]
    },
    {
      "cell_type": "markdown",
      "metadata": {
        "id": "C--BvvsgXcbL"
      },
      "source": [
        "### **90% CI**"
      ]
    },
    {
      "cell_type": "code",
      "metadata": {
        "id": "hLTcgOegYyhX"
      },
      "source": [
        "sample_90s = []\r\n",
        "sample_95s = []"
      ],
      "execution_count": 16,
      "outputs": []
    },
    {
      "cell_type": "code",
      "metadata": {
        "colab": {
          "base_uri": "https://localhost:8080/"
        },
        "id": "9H2MA7ZrYOCm",
        "outputId": "34fbdaa9-53e4-44f5-df60-2bf450fe92ef"
      },
      "source": [
        "for n in n_90:\r\n",
        "  sample = np.random.choice(df.MaxTemp, size=n, replace=False)\r\n",
        "  sample_90s.append(sample)\r\n",
        "  print(np.mean(sample))"
      ],
      "execution_count": 17,
      "outputs": [
        {
          "output_type": "stream",
          "text": [
            "19.108333333333334\n",
            "19.12117647058824\n",
            "20.25625\n"
          ],
          "name": "stdout"
        }
      ]
    },
    {
      "cell_type": "markdown",
      "metadata": {
        "id": "ct9TpIskasBC"
      },
      "source": [
        "### **95% CI**"
      ]
    },
    {
      "cell_type": "code",
      "metadata": {
        "colab": {
          "base_uri": "https://localhost:8080/"
        },
        "id": "j0Wa77uIZLZ_",
        "outputId": "e0624f99-6f64-4c29-bfc7-a71f3d6f040b"
      },
      "source": [
        "for n in n_95:\r\n",
        "  sample = np.random.choice(df.MaxTemp, size=n, replace=False)\r\n",
        "  sample_95s.append(sample)\r\n",
        "  print(np.mean(sample))"
      ],
      "execution_count": 18,
      "outputs": [
        {
          "output_type": "stream",
          "text": [
            "19.954878048780486\n",
            "19.223445825932505\n",
            "17.352173913043476\n"
          ],
          "name": "stdout"
        }
      ]
    },
    {
      "cell_type": "markdown",
      "metadata": {
        "id": "nuIhnT3saFHV"
      },
      "source": [
        "## **Estimate variance of your estimator for these n’s**"
      ]
    },
    {
      "cell_type": "code",
      "metadata": {
        "colab": {
          "base_uri": "https://localhost:8080/"
        },
        "id": "PWg3Qt_3aMXW",
        "outputId": "26421be0-0176-4910-d4f9-8059bba2d6d0"
      },
      "source": [
        "for sample in sample_90s:\r\n",
        "  print(np.var(sample))"
      ],
      "execution_count": 19,
      "outputs": [
        {
          "output_type": "stream",
          "text": [
            "17.410763888888887\n",
            "22.90453194925029\n",
            "9.679960937499999\n"
          ],
          "name": "stdout"
        }
      ]
    },
    {
      "cell_type": "code",
      "metadata": {
        "colab": {
          "base_uri": "https://localhost:8080/"
        },
        "id": "n1XhF36yaU2-",
        "outputId": "5ab4808f-ac95-46b2-d51a-62ab71fa0445"
      },
      "source": [
        "for sample in sample_95s:\r\n",
        "  print(np.var(sample))"
      ],
      "execution_count": 20,
      "outputs": [
        {
          "output_type": "stream",
          "text": [
            "28.51686644854253\n",
            "21.62307373907227\n",
            "18.305973534971645\n"
          ],
          "name": "stdout"
        }
      ]
    },
    {
      "cell_type": "markdown",
      "metadata": {
        "id": "80M5L0PDaXTM"
      },
      "source": [
        "## **Calculate confidence intervals for these estimators.**"
      ]
    },
    {
      "cell_type": "markdown",
      "metadata": {
        "id": "bObVc3tCbbOz"
      },
      "source": [
        "### **90% CI for ybar**"
      ]
    },
    {
      "cell_type": "code",
      "metadata": {
        "id": "1oC8xefYc3gJ"
      },
      "source": [
        "def get_ybar_CI(ybar, z, n, s_sq):\r\n",
        "  upper = ybar + z * np.sqrt(\r\n",
        "    ((N-n)/N)*(s_sq/n)\r\n",
        "  )\r\n",
        "  lower = ybar - z * np.sqrt(\r\n",
        "    ((N-n)/N)*(s_sq/n)\r\n",
        "  )\r\n",
        "  return [lower, upper]"
      ],
      "execution_count": 21,
      "outputs": []
    },
    {
      "cell_type": "code",
      "metadata": {
        "colab": {
          "base_uri": "https://localhost:8080/"
        },
        "id": "MVMGT5uNbucU",
        "outputId": "b1b57e81-1247-4540-a676-baa609965d4d"
      },
      "source": [
        "for sample in sample_90s:\r\n",
        "  ybar = np.mean(sample)\r\n",
        "  n = len(sample)\r\n",
        "  s_sq = np.var(sample)\r\n",
        "  ci = get_ybar_CI(ybar, z_alpha_90, n, s_sq)\r\n",
        "  print(ci)"
      ],
      "execution_count": 22,
      "outputs": [
        {
          "output_type": "stream",
          "text": [
            "[18.25870752919851, 19.95795913746816]\n",
            "[18.925400820732197, 19.31695212044428]\n",
            "[18.990669730177896, 21.521830269822107]\n"
          ],
          "name": "stdout"
        }
      ]
    },
    {
      "cell_type": "markdown",
      "metadata": {
        "id": "TGRmE4U8bVev"
      },
      "source": [
        "### **95% CI for ybar**"
      ]
    },
    {
      "cell_type": "code",
      "metadata": {
        "colab": {
          "base_uri": "https://localhost:8080/"
        },
        "id": "PjojrMh3baxF",
        "outputId": "de2b813d-24f2-40b5-efeb-09a186986c03"
      },
      "source": [
        "for sample in sample_95s:\r\n",
        "  ybar = np.mean(sample)\r\n",
        "  n = len(sample)\r\n",
        "  s_sq = np.var(sample)\r\n",
        "  ci = get_ybar_CI(ybar, z_alpha_95, n, s_sq)\r\n",
        "  print(ci)"
      ],
      "execution_count": 23,
      "outputs": [
        {
          "output_type": "stream",
          "text": [
            "[18.864516084072232, 21.04524001348874]\n",
            "[19.033596016347715, 19.413295635517294]\n",
            "[15.630816514537186, 19.073531311549768]\n"
          ],
          "name": "stdout"
        }
      ]
    },
    {
      "cell_type": "markdown",
      "metadata": {
        "id": "DCG2m9Fzd3So"
      },
      "source": [
        "## **Choosing optimal sample sizes**"
      ]
    },
    {
      "cell_type": "code",
      "metadata": {
        "colab": {
          "base_uri": "https://localhost:8080/"
        },
        "id": "Uy4VldPieFbG",
        "outputId": "60e94be5-ef26-46fb-b1bc-86d3184b0bf4"
      },
      "source": [
        "n = n_95[0]\r\n",
        "n"
      ],
      "execution_count": 24,
      "outputs": [
        {
          "output_type": "execute_result",
          "data": {
            "text/plain": [
              "82"
            ]
          },
          "metadata": {
            "tags": []
          },
          "execution_count": 24
        }
      ]
    },
    {
      "cell_type": "markdown",
      "metadata": {
        "id": "93sL9x8Geqz7"
      },
      "source": [
        "## **Guaranteeing the nominal confidence level**"
      ]
    },
    {
      "cell_type": "code",
      "metadata": {
        "id": "D8jhCLIrglfe"
      },
      "source": [
        "d_val = 0.9556442953020137"
      ],
      "execution_count": 25,
      "outputs": []
    },
    {
      "cell_type": "code",
      "metadata": {
        "colab": {
          "base_uri": "https://localhost:8080/"
        },
        "id": "2kW66fzGe8C2",
        "outputId": "9a1d78a8-cd1b-4be0-bd73-79f52b39e430"
      },
      "source": [
        "ct = 0\r\n",
        "for i in range(100):\r\n",
        "  sample = np.random.choice(df.MaxTemp, size=n, replace=False)\r\n",
        "  ybar = np.mean(sample)\r\n",
        "  d = abs(ybar - max_temp_mean)\r\n",
        "  print(d)\r\n",
        "  if d - d_val < 0:\r\n",
        "    ct +=1\r\n",
        "print(\"----------\")\r\n",
        "print(ct)"
      ],
      "execution_count": 26,
      "outputs": [
        {
          "output_type": "stream",
          "text": [
            "0.4970322475036859\n",
            "0.7702029792110068\n",
            "0.22491897200850985\n",
            "0.06882141103289996\n",
            "0.21760189883777414\n",
            "0.3677639548207594\n",
            "0.5188214110328992\n",
            "0.0700409232280208\n",
            "0.5663823866426512\n",
            "0.13849566213783504\n",
            "0.10784580127679888\n",
            "0.5287395645768562\n",
            "0.2628859060402746\n",
            "0.39337371091832196\n",
            "0.08833360615484764\n",
            "1.4968701915207028\n",
            "0.2494712718939276\n",
            "0.08711409395973035\n",
            "0.7458127353085651\n",
            "0.572479947618266\n",
            "0.09581273530856649\n",
            "0.35556883286954033\n",
            "0.29443116713045825\n",
            "0.0029677524963105384\n",
            "0.12613848420363283\n",
            "0.990772630545095\n",
            "0.43101653298412046\n",
            "0.05434932067441878\n",
            "0.17508102799149228\n",
            "0.8078458012768053\n",
            "0.18239810116222444\n",
            "1.0458127353085658\n",
            "0.6823981011622209\n",
            "0.6224799476182632\n",
            "0.11532493043051417\n",
            "0.042154198723196146\n",
            "0.16516287444753175\n",
            "0.7493092159109445\n",
            "0.3517482403011911\n",
            "0.5958127353085665\n",
            "0.5006907840890555\n",
            "0.757845801276801\n",
            "0.1993092159109473\n",
            "0.45191029628417567\n",
            "0.2761384842036314\n",
            "0.8066262890816809\n",
            "0.11882141103289712\n",
            "0.2970322475036866\n",
            "0.4884956621378329\n",
            "0.1749189720085056\n",
            "0.37873956457685765\n",
            "0.009227369454904988\n",
            "0.28101653298411833\n",
            "0.36776395482076296\n",
            "1.1651628744475317\n",
            "0.28239810116222586\n",
            "0.1726420036012506\n",
            "0.34947127189393257\n",
            "0.18605663774759051\n",
            "0.7567883450646633\n",
            "0.24808970371582717\n",
            "0.028739564576856225\n",
            "0.5066262890816766\n",
            "0.2665444426256407\n",
            "0.11882141103289712\n",
            "0.14337371091832196\n",
            "0.9310165329841205\n",
            "0.5555688328695396\n",
            "0.15312980847929936\n",
            "0.6702029792110018\n",
            "0.4531298084792965\n",
            "0.1445932231134428\n",
            "0.02264200360124846\n",
            "0.8836176133573446\n",
            "0.507845801276801\n",
            "0.45922736945490783\n",
            "0.43711409395972467\n",
            "0.5005287281060653\n",
            "0.6102848256670441\n",
            "0.37264200360124633\n",
            "0.5458127353085658\n",
            "0.6310165329841162\n",
            "1.018983467015886\n",
            "0.594431167130459\n",
            "0.012885906040271067\n",
            "0.1895531183499699\n",
            "0.8689834670158838\n",
            "0.3031298084792944\n",
            "0.07630054018661525\n",
            "0.6176018988377727\n",
            "0.14703224750368804\n",
            "0.1310165329841162\n",
            "0.16638238664264904\n",
            "0.03727614994271278\n",
            "0.14947127189392972\n",
            "0.46150433786216993\n",
            "0.4456506793255848\n",
            "0.21654444262564\n",
            "0.03849566213783362\n",
            "0.3651628744475346\n",
            "----------\n",
            "95\n"
          ],
          "name": "stdout"
        }
      ]
    },
    {
      "cell_type": "markdown",
      "metadata": {
        "id": "ulxa1tP-gydY"
      },
      "source": [
        "Exactly 95/100 of our samples have differences less than d=0.9556442953020137"
      ]
    },
    {
      "cell_type": "code",
      "metadata": {
        "id": "2qnGOGjqhzry"
      },
      "source": [
        ""
      ],
      "execution_count": null,
      "outputs": []
    }
  ]
}