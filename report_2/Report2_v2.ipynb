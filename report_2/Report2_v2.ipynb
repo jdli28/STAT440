{
 "cells": [
  {
   "cell_type": "markdown",
   "metadata": {
    "id": "xBHzh649O0Bm"
   },
   "source": [
    "# **Report 2**"
   ]
  },
  {
   "cell_type": "markdown",
   "metadata": {
    "id": "Z3R76JNNO7nK"
   },
   "source": [
    "**Authors: Richard Liang, Olivia majedi, Priyanka Kishore, Rhea Rakheja, Jiadong Li, Michael Strobel**"
   ]
  },
  {
   "cell_type": "code",
   "execution_count": 1,
   "metadata": {
    "id": "AByrw_kGPPMx"
   },
   "outputs": [],
   "source": [
    "import pandas as pd"
   ]
  },
  {
   "cell_type": "code",
   "execution_count": 2,
   "metadata": {
    "id": "4yweRkHuP8hU"
   },
   "outputs": [],
   "source": [
    "df = pd.read_csv('https://raw.githubusercontent.com/jdli28/STAT440/master/summer_mount_ginini.csv')"
   ]
  },
  {
   "cell_type": "code",
   "execution_count": 3,
   "metadata": {
    "id": "MD8b76X0Zc-w"
   },
   "outputs": [],
   "source": [
    "df = df.dropna()"
   ]
  },
  {
   "cell_type": "code",
   "execution_count": 4,
   "metadata": {
    "colab": {
     "base_uri": "https://localhost:8080/",
     "height": 419
    },
    "id": "8jAzii4oZ2H5",
    "outputId": "5b5831b4-5353-4311-dc04-5f7147f94a10"
   },
   "outputs": [
    {
     "data": {
      "text/html": [
       "<div>\n",
       "<style scoped>\n",
       "    .dataframe tbody tr th:only-of-type {\n",
       "        vertical-align: middle;\n",
       "    }\n",
       "\n",
       "    .dataframe tbody tr th {\n",
       "        vertical-align: top;\n",
       "    }\n",
       "\n",
       "    .dataframe thead th {\n",
       "        text-align: right;\n",
       "    }\n",
       "</style>\n",
       "<table border=\"1\" class=\"dataframe\">\n",
       "  <thead>\n",
       "    <tr style=\"text-align: right;\">\n",
       "      <th></th>\n",
       "      <th>Date</th>\n",
       "      <th>Location</th>\n",
       "      <th>MinTemp</th>\n",
       "      <th>MaxTemp</th>\n",
       "    </tr>\n",
       "  </thead>\n",
       "  <tbody>\n",
       "    <tr>\n",
       "      <th>0</th>\n",
       "      <td>12/1/2008</td>\n",
       "      <td>MountGinini</td>\n",
       "      <td>5.2</td>\n",
       "      <td>13.0</td>\n",
       "    </tr>\n",
       "    <tr>\n",
       "      <th>1</th>\n",
       "      <td>12/2/2008</td>\n",
       "      <td>MountGinini</td>\n",
       "      <td>3.0</td>\n",
       "      <td>15.0</td>\n",
       "    </tr>\n",
       "    <tr>\n",
       "      <th>2</th>\n",
       "      <td>12/3/2008</td>\n",
       "      <td>MountGinini</td>\n",
       "      <td>6.0</td>\n",
       "      <td>15.0</td>\n",
       "    </tr>\n",
       "    <tr>\n",
       "      <th>3</th>\n",
       "      <td>12/4/2008</td>\n",
       "      <td>MountGinini</td>\n",
       "      <td>2.0</td>\n",
       "      <td>15.0</td>\n",
       "    </tr>\n",
       "    <tr>\n",
       "      <th>4</th>\n",
       "      <td>12/5/2008</td>\n",
       "      <td>MountGinini</td>\n",
       "      <td>8.0</td>\n",
       "      <td>17.8</td>\n",
       "    </tr>\n",
       "    <tr>\n",
       "      <th>...</th>\n",
       "      <td>...</td>\n",
       "      <td>...</td>\n",
       "      <td>...</td>\n",
       "      <td>...</td>\n",
       "    </tr>\n",
       "    <tr>\n",
       "      <th>743</th>\n",
       "      <td>2/24/2017</td>\n",
       "      <td>MountGinini</td>\n",
       "      <td>13.8</td>\n",
       "      <td>24.1</td>\n",
       "    </tr>\n",
       "    <tr>\n",
       "      <th>744</th>\n",
       "      <td>2/25/2017</td>\n",
       "      <td>MountGinini</td>\n",
       "      <td>9.5</td>\n",
       "      <td>11.2</td>\n",
       "    </tr>\n",
       "    <tr>\n",
       "      <th>745</th>\n",
       "      <td>2/26/2017</td>\n",
       "      <td>MountGinini</td>\n",
       "      <td>4.7</td>\n",
       "      <td>16.7</td>\n",
       "    </tr>\n",
       "    <tr>\n",
       "      <th>746</th>\n",
       "      <td>2/27/2017</td>\n",
       "      <td>MountGinini</td>\n",
       "      <td>5.6</td>\n",
       "      <td>16.2</td>\n",
       "    </tr>\n",
       "    <tr>\n",
       "      <th>747</th>\n",
       "      <td>2/28/2017</td>\n",
       "      <td>MountGinini</td>\n",
       "      <td>7.5</td>\n",
       "      <td>18.0</td>\n",
       "    </tr>\n",
       "  </tbody>\n",
       "</table>\n",
       "<p>745 rows × 4 columns</p>\n",
       "</div>"
      ],
      "text/plain": [
       "          Date     Location  MinTemp  MaxTemp\n",
       "0    12/1/2008  MountGinini      5.2     13.0\n",
       "1    12/2/2008  MountGinini      3.0     15.0\n",
       "2    12/3/2008  MountGinini      6.0     15.0\n",
       "3    12/4/2008  MountGinini      2.0     15.0\n",
       "4    12/5/2008  MountGinini      8.0     17.8\n",
       "..         ...          ...      ...      ...\n",
       "743  2/24/2017  MountGinini     13.8     24.1\n",
       "744  2/25/2017  MountGinini      9.5     11.2\n",
       "745  2/26/2017  MountGinini      4.7     16.7\n",
       "746  2/27/2017  MountGinini      5.6     16.2\n",
       "747  2/28/2017  MountGinini      7.5     18.0\n",
       "\n",
       "[745 rows x 4 columns]"
      ]
     },
     "execution_count": 4,
     "metadata": {
      "tags": []
     },
     "output_type": "execute_result"
    }
   ],
   "source": [
    "df"
   ]
  },
  {
   "cell_type": "code",
   "execution_count": 5,
   "metadata": {
    "id": "5pqyxFd5RaMy"
   },
   "outputs": [],
   "source": [
    "import numpy as np"
   ]
  },
  {
   "cell_type": "markdown",
   "metadata": {
    "id": "LQmWY1jETiqb"
   },
   "source": [
    "## **Population size N and true parameter mu(MaxTemp)**"
   ]
  },
  {
   "cell_type": "code",
   "execution_count": 6,
   "metadata": {
    "colab": {
     "base_uri": "https://localhost:8080/"
    },
    "id": "5tAcie5GSCQi",
    "outputId": "c3a8d8dd-9f59-4f19-dde8-70937aa5f65d"
   },
   "outputs": [
    {
     "data": {
      "text/plain": [
       "745"
      ]
     },
     "execution_count": 6,
     "metadata": {
      "tags": []
     },
     "output_type": "execute_result"
    }
   ],
   "source": [
    "N = len(df)\n",
    "N"
   ]
  },
  {
   "cell_type": "code",
   "execution_count": 7,
   "metadata": {
    "colab": {
     "base_uri": "https://localhost:8080/"
    },
    "id": "dL6-eEZ1SiFN",
    "outputId": "36bcbfd3-f087-4e66-ca09-e3f0995b304f"
   },
   "outputs": [
    {
     "data": {
      "text/plain": [
       "19.112885906040272"
      ]
     },
     "execution_count": 7,
     "metadata": {
      "tags": []
     },
     "output_type": "execute_result"
    }
   ],
   "source": [
    "max_temp_mean = np.mean(df.MaxTemp)\n",
    "max_temp_mean"
   ]
  },
  {
   "cell_type": "markdown",
   "metadata": {
    "id": "NI-U5JyMToAT"
   },
   "source": [
    "## **Calculate sample size n for 90% and 95% confidence levels and couple different d’s. Use true σ^2 for these calculations**"
   ]
  },
  {
   "cell_type": "code",
   "execution_count": 8,
   "metadata": {
    "colab": {
     "base_uri": "https://localhost:8080/"
    },
    "id": "Oh4L-_UrRwEs",
    "outputId": "43263434-ac94-4faf-8cd6-eb8beb8cb2b5"
   },
   "outputs": [
    {
     "data": {
      "text/plain": [
       "21.75814267825774"
      ]
     },
     "execution_count": 8,
     "metadata": {
      "tags": []
     },
     "output_type": "execute_result"
    }
   ],
   "source": [
    "sigma_sq = np.var(df.MaxTemp)\n",
    "sigma_sq"
   ]
  },
  {
   "cell_type": "code",
   "execution_count": 9,
   "metadata": {
    "colab": {
     "base_uri": "https://localhost:8080/"
    },
    "id": "sWOwCeuzUGXs",
    "outputId": "1adadd5d-f2dc-4f7c-b5b0-4902d5d938e4"
   },
   "outputs": [
    {
     "data": {
      "text/plain": [
       "[0.9556442953020137, 0.19112885906040272, 1.9112885906040273]"
      ]
     },
     "execution_count": 9,
     "metadata": {
      "tags": []
     },
     "output_type": "execute_result"
    }
   ],
   "source": [
    "r = [.05, .01, .1]\n",
    "d = [(max_temp_mean * rval) for rval in r]\n",
    "d"
   ]
  },
  {
   "cell_type": "code",
   "execution_count": 10,
   "metadata": {
    "id": "f87NLlpYUUH8"
   },
   "outputs": [],
   "source": [
    " from scipy import stats\n",
    "z_alpha_90 = stats.norm.ppf(1-0.05)\n",
    "z_alpha_95 = stats.norm.ppf(1-0.025)"
   ]
  },
  {
   "cell_type": "code",
   "execution_count": 11,
   "metadata": {
    "id": "BzzF4OQwWE3r"
   },
   "outputs": [],
   "source": [
    "n_90 = []\n",
    "n_95 = []"
   ]
  },
  {
   "cell_type": "code",
   "execution_count": 12,
   "metadata": {
    "id": "YzsGP_LUVMSV"
   },
   "outputs": [],
   "source": [
    "for d_val in d:\n",
    "  n0 = z_alpha_90**2*sigma_sq/(d_val**2)\n",
    "  n_90.append(\n",
    "    1/((1/n0)+(1/N))\n",
    "  )\n",
    "\n",
    "  n0 = z_alpha_95**2*sigma_sq/(d_val**2)\n",
    "  n_95.append(\n",
    "    1/((1/n0)+(1/N))\n",
    "  )"
   ]
  },
  {
   "cell_type": "code",
   "execution_count": 13,
   "metadata": {
    "id": "3t-Yhdq5XwMn"
   },
   "outputs": [],
   "source": [
    "import math"
   ]
  },
  {
   "cell_type": "code",
   "execution_count": 14,
   "metadata": {
    "colab": {
     "base_uri": "https://localhost:8080/"
    },
    "id": "0jMjO4T4WpLf",
    "outputId": "43608e42-f191-4a03-88fc-90ce377f2877"
   },
   "outputs": [
    {
     "data": {
      "text/plain": [
       "[60, 510, 16]"
      ]
     },
     "execution_count": 14,
     "metadata": {
      "tags": []
     },
     "output_type": "execute_result"
    }
   ],
   "source": [
    "n_90\n",
    "n_90 = [math.ceil(n) for n in n_90]\n",
    "n_90"
   ]
  },
  {
   "cell_type": "code",
   "execution_count": 15,
   "metadata": {
    "colab": {
     "base_uri": "https://localhost:8080/"
    },
    "id": "B08GbM8jWvDz",
    "outputId": "111b63a7-617c-4f09-ab7c-9f31f6dd63fe"
   },
   "outputs": [
    {
     "data": {
      "text/plain": [
       "[82, 563, 23]"
      ]
     },
     "execution_count": 15,
     "metadata": {
      "tags": []
     },
     "output_type": "execute_result"
    }
   ],
   "source": [
    "n_95\n",
    "n_95 = [math.ceil(n) for n in n_95]\n",
    "n_95"
   ]
  },
  {
   "cell_type": "markdown",
   "metadata": {
    "id": "6V89Bn8hWwD7"
   },
   "source": [
    "## **Estimate your parameter of interest using SRS with n’s which you calculated above.**"
   ]
  },
  {
   "cell_type": "markdown",
   "metadata": {
    "id": "C--BvvsgXcbL"
   },
   "source": [
    "### **90% CI**"
   ]
  },
  {
   "cell_type": "code",
   "execution_count": 16,
   "metadata": {
    "id": "hLTcgOegYyhX"
   },
   "outputs": [],
   "source": [
    "sample_90s = []\n",
    "sample_95s = []"
   ]
  },
  {
   "cell_type": "code",
   "execution_count": 17,
   "metadata": {
    "colab": {
     "base_uri": "https://localhost:8080/"
    },
    "id": "9H2MA7ZrYOCm",
    "outputId": "a0d6c1f9-c27a-4400-ab4c-e224e7223c30"
   },
   "outputs": [
    {
     "name": "stdout",
     "output_type": "stream",
     "text": [
      "19.415\n",
      "19.396666666666665\n",
      "20.03125\n"
     ]
    }
   ],
   "source": [
    "for n in n_90:\n",
    "  sample = np.random.choice(df.MaxTemp, size=n, replace=False)\n",
    "  sample_90s.append(sample)\n",
    "  print(np.mean(sample))"
   ]
  },
  {
   "cell_type": "markdown",
   "metadata": {
    "id": "ct9TpIskasBC"
   },
   "source": [
    "### **95% CI**"
   ]
  },
  {
   "cell_type": "code",
   "execution_count": 18,
   "metadata": {
    "colab": {
     "base_uri": "https://localhost:8080/"
    },
    "id": "j0Wa77uIZLZ_",
    "outputId": "864910a7-c2f2-4368-97d6-cee5ade9b4b6"
   },
   "outputs": [
    {
     "name": "stdout",
     "output_type": "stream",
     "text": [
      "19.640243902439025\n",
      "19.127353463587923\n",
      "19.778260869565216\n"
     ]
    }
   ],
   "source": [
    "for n in n_95:\n",
    "  sample = np.random.choice(df.MaxTemp, size=n, replace=False)\n",
    "  sample_95s.append(sample)\n",
    "  print(np.mean(sample))"
   ]
  },
  {
   "cell_type": "markdown",
   "metadata": {
    "id": "nuIhnT3saFHV"
   },
   "source": [
    "## **Estimate variance of your estimator for these n’s**"
   ]
  },
  {
   "cell_type": "code",
   "execution_count": 19,
   "metadata": {
    "colab": {
     "base_uri": "https://localhost:8080/"
    },
    "id": "PWg3Qt_3aMXW",
    "outputId": "429e94e1-d6b0-4b81-b6fb-579457c70093"
   },
   "outputs": [
    {
     "name": "stdout",
     "output_type": "stream",
     "text": [
      "0.4107539159209545\n",
      "0.013218372481071211\n",
      "1.0621351687028107\n"
     ]
    }
   ],
   "source": [
    "for sample in sample_90s:\n",
    "  n = len(sample)\n",
    "  s_sq = np.var(sample)\n",
    "  varHat_yBar = ((N-n)/N)*(s_sq/n)\n",
    "  print(varHat_yBar)"
   ]
  },
  {
   "cell_type": "code",
   "execution_count": 20,
   "metadata": {
    "colab": {
     "base_uri": "https://localhost:8080/"
    },
    "id": "n1XhF36yaU2-",
    "outputId": "1ed59354-0421-4378-af5e-e96f2f05b87f"
   },
   "outputs": [
    {
     "name": "stdout",
     "output_type": "stream",
     "text": [
      "0.22770015458317275\n",
      "0.00957880666589971\n",
      "1.0538009215156188\n"
     ]
    }
   ],
   "source": [
    "for sample in sample_95s:\n",
    "  n = len(sample)\n",
    "  s_sq = np.var(sample)\n",
    "  varHat_yBar = ((N-n)/N)*(s_sq/n)\n",
    "  print(varHat_yBar)"
   ]
  },
  {
   "cell_type": "markdown",
   "metadata": {
    "id": "80M5L0PDaXTM"
   },
   "source": [
    "## **Calculate confidence intervals for these estimators.**"
   ]
  },
  {
   "cell_type": "markdown",
   "metadata": {
    "id": "bObVc3tCbbOz"
   },
   "source": [
    "### **90% CI for ybar**"
   ]
  },
  {
   "cell_type": "code",
   "execution_count": 21,
   "metadata": {
    "id": "1oC8xefYc3gJ"
   },
   "outputs": [],
   "source": [
    "def get_ybar_CI(ybar, z, n, s_sq):\n",
    "  upper = ybar + z * np.sqrt(\n",
    "    ((N-n)/N)*(s_sq/n)\n",
    "  )\n",
    "  lower = ybar - z * np.sqrt(\n",
    "    ((N-n)/N)*(s_sq/n)\n",
    "  )\n",
    "  return [lower, upper]"
   ]
  },
  {
   "cell_type": "code",
   "execution_count": 22,
   "metadata": {
    "colab": {
     "base_uri": "https://localhost:8080/"
    },
    "id": "MVMGT5uNbucU",
    "outputId": "0da1993f-9e55-4834-87cf-bb2b58ed56ec"
   },
   "outputs": [
    {
     "name": "stdout",
     "output_type": "stream",
     "text": [
      "[18.360811891328687, 20.46918810867131]\n",
      "[19.207555902457017, 19.585777430876313]\n",
      "[18.3360648027285, 21.7264351972715]\n"
     ]
    }
   ],
   "source": [
    "for sample in sample_90s:\n",
    "  ybar = np.mean(sample)\n",
    "  n = len(sample)\n",
    "  s_sq = np.var(sample)\n",
    "  ci = get_ybar_CI(ybar, z_alpha_90, n, s_sq)\n",
    "  print(ci)"
   ]
  },
  {
   "cell_type": "markdown",
   "metadata": {
    "id": "TGRmE4U8bVev"
   },
   "source": [
    "### **95% CI for ybar**"
   ]
  },
  {
   "cell_type": "code",
   "execution_count": 23,
   "metadata": {
    "colab": {
     "base_uri": "https://localhost:8080/"
    },
    "id": "PjojrMh3baxF",
    "outputId": "b807c7be-2b4f-4545-f512-8e6404dff9e4"
   },
   "outputs": [
    {
     "name": "stdout",
     "output_type": "stream",
     "text": [
      "[18.704989516030203, 20.575498288847847]\n",
      "[18.935529087247364, 19.319177839928482]\n",
      "[17.766263641631795, 21.790258097498636]\n"
     ]
    }
   ],
   "source": [
    "for sample in sample_95s:\n",
    "  ybar = np.mean(sample)\n",
    "  n = len(sample)\n",
    "  s_sq = np.var(sample)\n",
    "  ci = get_ybar_CI(ybar, z_alpha_95, n, s_sq)\n",
    "  print(ci)"
   ]
  },
  {
   "cell_type": "markdown",
   "metadata": {
    "id": "DCG2m9Fzd3So"
   },
   "source": [
    "## **Choosing optimal sample sizes**"
   ]
  },
  {
   "cell_type": "code",
   "execution_count": 24,
   "metadata": {
    "colab": {
     "base_uri": "https://localhost:8080/"
    },
    "id": "Uy4VldPieFbG",
    "outputId": "e6d99c3c-1f92-49f9-9f9d-bba3d76649a3"
   },
   "outputs": [
    {
     "data": {
      "text/plain": [
       "82"
      ]
     },
     "execution_count": 24,
     "metadata": {
      "tags": []
     },
     "output_type": "execute_result"
    }
   ],
   "source": [
    "n = n_95[0]\n",
    "n"
   ]
  },
  {
   "cell_type": "markdown",
   "metadata": {
    "id": "pjTynw4-q-U_"
   },
   "source": [
    "For convenience, we will take `n=80` instead. Since we will be studying methods for when we need to divide sampling units into groups, `n=80` will have more options for grouping"
   ]
  },
  {
   "cell_type": "code",
   "execution_count": 25,
   "metadata": {
    "id": "VGX79Bt8rOYB"
   },
   "outputs": [],
   "source": [
    "n = 80"
   ]
  },
  {
   "cell_type": "markdown",
   "metadata": {
    "id": "93sL9x8Geqz7"
   },
   "source": [
    "## **Guaranteeing the nominal confidence level**"
   ]
  },
  {
   "cell_type": "code",
   "execution_count": 26,
   "metadata": {
    "id": "D8jhCLIrglfe"
   },
   "outputs": [],
   "source": [
    "d_val = 0.9556442953020137"
   ]
  },
  {
   "cell_type": "code",
   "execution_count": 27,
   "metadata": {
    "colab": {
     "base_uri": "https://localhost:8080/"
    },
    "id": "2kW66fzGe8C2",
    "outputId": "0be7ad44-7adf-4617-b617-43830bf493f9"
   },
   "outputs": [
    {
     "name": "stdout",
     "output_type": "stream",
     "text": [
      "0.1583640939597295\n",
      "0.22586409395972495\n",
      "0.6241359060402729\n",
      "0.27836409395972694\n",
      "0.1446140939597278\n",
      "0.3941359060402725\n",
      "0.5896140939597281\n",
      "0.30288590604027377\n",
      "0.12913590604027547\n",
      "0.0691359060402732\n",
      "0.26836409395972893\n",
      "0.8803859060402743\n",
      "0.1853859060402705\n",
      "0.3658640939597255\n",
      "0.23961409395972666\n",
      "0.29413590604027107\n",
      "0.03961409395972737\n",
      "0.11913590604027391\n",
      "0.6003859060402732\n",
      "0.27086409395972666\n",
      "0.7233640939597272\n",
      "0.3303859060402736\n",
      "0.007114093959724954\n",
      "0.7796140939597294\n",
      "0.3246140939597275\n",
      "0.9433640939597261\n",
      "0.08913590604027277\n",
      "0.5558640939597268\n",
      "0.09788590604027192\n",
      "0.4216359060402688\n",
      "0.3658640939597291\n",
      "0.5153859060402759\n",
      "0.03586409395972723\n",
      "0.2946140939597264\n",
      "0.31461409395972595\n",
      "0.6358640939597286\n",
      "0.059135906040271635\n",
      "0.38586409395972865\n",
      "0.3628859060402725\n",
      "0.5933640939597282\n",
      "0.08163590604027249\n",
      "0.03913590604027206\n",
      "0.6383640939597264\n",
      "0.27836409395972694\n",
      "0.15711409395972709\n",
      "0.4308640939597268\n",
      "0.3316359060402725\n",
      "0.6603859060402719\n",
      "0.6928859060402743\n",
      "0.5458640939597288\n",
      "0.6233640939597294\n",
      "0.19586409395972382\n",
      "0.33288590604027135\n",
      "0.6833640939597245\n",
      "0.5058640939597261\n",
      "0.8166359060402755\n",
      "0.3941359060402725\n",
      "0.2353859060402712\n",
      "0.29538590604026993\n",
      "0.08336409395972666\n",
      "0.06336409395972709\n",
      "0.1441359060402725\n",
      "0.05663590604027391\n",
      "0.01663590604027121\n",
      "0.036635906040274335\n",
      "0.3241359060402722\n",
      "0.5796140939597301\n",
      "0.13288590604027561\n",
      "0.27038590604027135\n",
      "0.5041359060402719\n",
      "0.5816359060402725\n",
      "0.22913590604027334\n",
      "0.2303859060402722\n",
      "0.45836409395972666\n",
      "1.7083640939597267\n",
      "0.20038590604027107\n",
      "0.030385906040272914\n",
      "0.4933640939597268\n",
      "0.06788590604027434\n",
      "0.5353859060402719\n",
      "0.24211409395972794\n",
      "0.12163590604027164\n",
      "0.25163590604027064\n",
      "0.9316359060402739\n",
      "0.8471140939597284\n",
      "0.10163590604027561\n",
      "0.9216359060402723\n",
      "0.14211409395972652\n",
      "0.25163590604027064\n",
      "1.0896140939597245\n",
      "0.9546140939597301\n",
      "0.1003859060402732\n",
      "0.7353859060402748\n",
      "0.1846140939597305\n",
      "0.03538590604027192\n",
      "0.002114093959725949\n",
      "0.5153859060402688\n",
      "0.1491359060402715\n",
      "0.2308640939597275\n",
      "0.2128859060402739\n",
      "----------\n",
      "98\n"
     ]
    }
   ],
   "source": [
    "ct = 0\n",
    "for i in range(100):\n",
    "  sample = np.random.choice(df.MaxTemp, size=n, replace=False)\n",
    "  ybar = np.mean(sample)\n",
    "  d = abs(ybar - max_temp_mean)\n",
    "  print(d)\n",
    "  if d - d_val < 0:\n",
    "    ct +=1\n",
    "print(\"----------\")\n",
    "print(ct)"
   ]
  },
  {
   "cell_type": "markdown",
   "metadata": {
    "id": "ulxa1tP-gydY"
   },
   "source": [
    "Almost all (98/100) of our samples have differences less than d=0.9556442953020137"
   ]
  }
 ],
 "metadata": {
  "colab": {
   "collapsed_sections": [],
   "name": "Report2.ipynb",
   "provenance": [],
   "toc_visible": true
  },
  "kernelspec": {
   "display_name": "Python 3",
   "language": "python",
   "name": "python3"
  },
  "language_info": {
   "codemirror_mode": {
    "name": "ipython",
    "version": 3
   },
   "file_extension": ".py",
   "mimetype": "text/x-python",
   "name": "python",
   "nbconvert_exporter": "python",
   "pygments_lexer": "ipython3",
   "version": "3.8.5"
  }
 },
 "nbformat": 4,
 "nbformat_minor": 1
}
